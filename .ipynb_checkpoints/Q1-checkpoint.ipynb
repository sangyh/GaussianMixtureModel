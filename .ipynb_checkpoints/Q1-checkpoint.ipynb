{
 "cells": [
  {
   "cell_type": "code",
   "execution_count": 185,
   "metadata": {
    "collapsed": true
   },
   "outputs": [],
   "source": [
    "import numpy as np\n",
    "from sklearn import tree\n",
    "from sklearn.linear_model import LinearRegression\n",
    "import matplotlib.pyplot as plt"
   ]
  },
  {
   "cell_type": "code",
   "execution_count": 186,
   "metadata": {},
   "outputs": [],
   "source": [
    "N=100\n",
    "p=10\n",
    "x=np.ones([N,p])\n",
    "y=np.ones(N)\n",
    "mu, sigma = 0, 1 # mean and standard deviation of x\n",
    "m, s = 0, 1 # mean and standard deviation of y\n",
    "\n",
    "x=np.random.normal(mu,sigma,(N,p))\n",
    "y=np.random.normal(m,s,N)\n"
   ]
  },
  {
   "cell_type": "code",
   "execution_count": 214,
   "metadata": {},
   "outputs": [
    {
     "name": "stdout",
     "output_type": "stream",
     "text": [
      "0.0774143931851\n"
     ]
    }
   ],
   "source": [
    "#if maxleafnode=1\n",
    "reg = LinearRegression().fit(x, y)\n",
    "y_hat_linreg=reg.predict(x)\n",
    "print(reg.score(x, y))"
   ]
  },
  {
   "cell_type": "code",
   "execution_count": 188,
   "metadata": {},
   "outputs": [
    {
     "name": "stdout",
     "output_type": "stream",
     "text": [
      "DecisionTreeRegressor(criterion='mse', max_depth=None, max_features=None,\n",
      "           max_leaf_nodes=5, min_impurity_decrease=0.0,\n",
      "           min_impurity_split=None, min_samples_leaf=1,\n",
      "           min_samples_split=2, min_weight_fraction_leaf=0.0,\n",
      "           presort=False, random_state=None, splitter='best')\n"
     ]
    }
   ],
   "source": [
    "#maxleafnode=5 and 10\n",
    "clf = tree.DecisionTreeRegressor(max_leaf_nodes=5)\n",
    "clf = clf.fit(x, y)\n",
    "print(clf)\n",
    "y_hat=clf.predict(x)"
   ]
  },
  {
   "cell_type": "code",
   "execution_count": 215,
   "metadata": {
    "collapsed": true
   },
   "outputs": [],
   "source": [
    "#repeat 10 times\n",
    "\n",
    "def gen_resp(y):\n",
    "    y_res=np.ones(N)\n",
    "    df=[]\n",
    "    y_res=np.random.normal(m,s,N)\n",
    "    cov=np.cov(y, y_res, rowvar=False,ddof=0)\n",
    "    df.append((np.trace(cov)))\n",
    "    return df\n"
   ]
  },
  {
   "cell_type": "code",
   "execution_count": 216,
   "metadata": {},
   "outputs": [
    {
     "name": "stdout",
     "output_type": "stream",
     "text": [
      "1.0378449603\n"
     ]
    },
    {
     "data": {
      "image/png": "[encoded data removed]",
      "text/plain": [
       "<matplotlib.figure.Figure at 0x1e3c9fb1f60>"
      ]
     },
     "metadata": {},
     "output_type": "display_data"
    }
   ],
   "source": [
    "#estimate covar\n",
    "DOF=[]\n",
    "for i in range(10):\n",
    "    DOF.append(gen_resp(y_hat_linreg))\n",
    "print(np.mean(DOF))\n",
    "\n",
    "plt.plot(range(len(DOF)),DOF,'-o',label='df')\n",
    "plt.legend()\n",
    "#plt.axis([0,5,-2,2])\n",
    "plt.show()"
   ]
  },
  {
   "cell_type": "code",
   "execution_count": null,
   "metadata": {
    "collapsed": true
   },
   "outputs": [],
   "source": []
  },
  {
   "cell_type": "code",
   "execution_count": null,
   "metadata": {
    "collapsed": true
   },
   "outputs": [],
   "source": []
  },
  {
   "cell_type": "code",
   "execution_count": null,
   "metadata": {
    "collapsed": true
   },
   "outputs": [],
   "source": []
  },
  {
   "cell_type": "code",
   "execution_count": null,
   "metadata": {
    "collapsed": true
   },
   "outputs": [],
   "source": []
  }
 ],
 "metadata": {
  "kernelspec": {
   "display_name": "Python [conda env:Anaconda3]",
   "language": "python",
   "name": "conda-env-Anaconda3-py"
  },
  "language_info": {
   "codemirror_mode": {
    "name": "ipython",
    "version": 3
   },
   "file_extension": ".py",
   "mimetype": "text/x-python",
   "name": "python",
   "nbconvert_exporter": "python",
   "pygments_lexer": "ipython3",
   "version": "3.6.2"
  }
 },
 "nbformat": 4,
 "nbformat_minor": 2
}
